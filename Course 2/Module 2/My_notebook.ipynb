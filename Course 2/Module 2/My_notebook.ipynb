{
  "metadata": {
    "kernelspec": {
      "name": "python",
      "display_name": "Pyolite",
      "language": "python"
    },
    "language_info": {
      "codemirror_mode": {
        "name": "python",
        "version": 3
      },
      "file_extension": ".py",
      "mimetype": "text/x-python",
      "name": "python",
      "nbconvert_exporter": "python",
      "pygments_lexer": "ipython3",
      "version": "3.8"
    }
  },
  "nbformat_minor": 4,
  "nbformat": 4,
  "cells": [
    {
      "cell_type": "markdown",
      "source": "<center>\n    <img src=\"https://cf-courses-data.s3.us.cloud-object-storage.appdomain.cloud/IBMDeveloperSkillsNetwork-DS0105EN-SkillsNetwork/labs/Module2/images/SN_web_lightmode.png\" width=\"300\" alt=\"cognitiveclass.ai logo\">\n</center>\n",
      "metadata": {}
    },
    {
      "cell_type": "markdown",
      "source": "#### Add your code below following the instructions given in the course\n",
      "metadata": {}
    },
    {
      "cell_type": "markdown",
      "source": "# Exercise 1 - Create a new notebook in Python \n\nIn the next section click on Open Tool to access the Skills Network virtual lab environment.\n",
      "metadata": {}
    },
    {
      "cell_type": "markdown",
      "source": "# Exercise 2 - Write and execute code\n\nIn your new empty notebook (from Exercise 1), click within the gray code cell and write some code, like 1 + 1.\n\nExecute the code, by either clicking the Play button in the menu above the notebook, or by pressing Shift+Enter on your notebook.\n\nYou should see in the output, 2.\n\nTry executing other code (try simple math operations).\n\nGreat! Now you know how to write and run code in Jupyter Notebooks.\n",
      "metadata": {}
    },
    {
      "cell_type": "code",
      "source": "1+1",
      "metadata": {
        "trusted": true
      },
      "execution_count": 2,
      "outputs": [
        {
          "execution_count": 2,
          "output_type": "execute_result",
          "data": {
            "text/plain": "2"
          },
          "metadata": {}
        }
      ]
    },
    {
      "cell_type": "code",
      "source": "3+3",
      "metadata": {
        "trusted": true
      },
      "execution_count": 3,
      "outputs": [
        {
          "execution_count": 3,
          "output_type": "execute_result",
          "data": {
            "text/plain": "6"
          },
          "metadata": {}
        }
      ]
    },
    {
      "cell_type": "markdown",
      "source": "# Exercise 3 - Create new cells\n\nIn your Jupyter notebook, first click on any of the existing cells to select the cell.\n\nFrom the menu, click on Insert, then Insert Cell Above or Insert Cell Below.\n\nGreat! Now you know how to insert new cells in Jupyter Notebooks. Note you can use the keyboard shortcuts: [a] - Insert a Cell Above; [b] - Insert a Cell Below.\n ",
      "metadata": {}
    },
    {
      "cell_type": "code",
      "source": "",
      "metadata": {},
      "execution_count": null,
      "outputs": []
    },
    {
      "cell_type": "code",
      "source": "",
      "metadata": {},
      "execution_count": null,
      "outputs": []
    },
    {
      "cell_type": "markdown",
      "source": "# Exercise 4 - Create Markdown cells and add text\n\nIn your notebook, click on any code cell, and in the drop-down menu in the menu above, change the cell type from Code to Markdown. As you'll notice, you cannot create Markdown cells without first creating cells and converting them from Code to Markdown.\n\nIn the Markdown cell, write some text like My Title.\n\nTo render the Markdown text, make sure the cell is selected (by clicking within it), and press Play in the menu, or Shift+Enter.\n\nYour Markdown cell should now be rendered!\n\nTo edit your Markdown cell, double-click anywhere within the cell. Note you can use the keyboard shortcut: [m] - Convert Cell to Markdown\n\nPlease note that practice exercises are not graded, and you do not need submit anything.  ",
      "metadata": {}
    },
    {
      "cell_type": "markdown",
      "source": "## My Title ",
      "metadata": {}
    },
    {
      "cell_type": "markdown",
      "source": "# Exercise 5 - Rename your Notebook\n\nIn the list of notebooks in the right-hand panel, click on the File at the top to expand the list of options.\n\nClick on Rename Notebook... to rename your notebook to something like My_Notebook.ipynb.\n",
      "metadata": {}
    },
    {
      "cell_type": "markdown",
      "source": "# Exercise 6 - Save and Download your Jupyter Notebook from Skills Network Labs to your computer\n\nAlthough your notebooks and data is preserved in your account after signing out, sometimes you may want to download your notebook to your computer.\n\nTo save, click on the Save Notebook or Save Notebook as button in the File menu.\n\nTo download the notebook, click on the File and scroll down to Download to download the notebook. You can also right-click on the notebook in the file browser pane and click Download\n ",
      "metadata": {}
    },
    {
      "cell_type": "markdown",
      "source": "# Exercise 7 - Upload a Jupyter Notebook to Skills Network Labs\n\nTo upload a Jupyter Notebook from your computer to Skills Network Labs, drag and drop a .ipynb file from your computer directly into the browser. You can use the notebook you downloaded from Exercise 6.\n\nYour notebook should open up automatically once it has finished uploading. ",
      "metadata": {}
    },
    {
      "cell_type": "markdown",
      "source": "# Exercise 8 - Change your kernel (to Python 3, R) in JupyterLab\n\nNote: We use Jupyter Lite which only has Python and JavaScript kernels. Running locally however you should be able to have access to the R kernel.\n\nWith a notebook open, click on the kernel name (e.g., Python 3) in the top-righthand corner of the notebook to open up a pop-up window to change it to a different language.  ",
      "metadata": {}
    },
    {
      "cell_type": "markdown",
      "source": "# Exercise 9 - Advanced Markdown styling\n\nTo get start using the Markdown feature, click on the drop-down menu at the top and click on Markdown.\n\nYou can write HTML code in your Markdown cells. We can embed links, try executing the following HTML code in a Markdown cell:",
      "metadata": {}
    },
    {
      "cell_type": "code",
      "source": "<a href=\"https://dataplatform.cloud.ibm.com/gallery\">IBM Cloud Gallery</a> ",
      "metadata": {
        "trusted": true
      },
      "execution_count": null,
      "outputs": []
    },
    {
      "cell_type": "markdown",
      "source": "<a href=\"https://dataplatform.cloud.ibm.com/gallery\">IBM Cloud Gallery</a> ",
      "metadata": {}
    },
    {
      "cell_type": "markdown",
      "source": "Now, right-click and open the link in a new tab. You should now see a hyperlink to https://dataplatform.cloud.ibm.com/gallery that appears as IBM Cloud Gallery.\n\nYou can also use Markdown formatting. For example, to use an H1 Header to write a title, try running the following in a Markdown cell: # Header 1. You can find more rules for Markdown formatting in this Markdown Cheatsheet: https://github.com/adam-p/markdown-here/wiki/Markdown-Cheatsheet\n\nYou can also create HTML tables. To create a table like this,\n\nheader\theader\ncell\tcell\nyou can do that by doing the following:",
      "metadata": {}
    },
    {
      "cell_type": "code",
      "source": "| header | header |\n| ------ | ------ |\n| cell | cell |",
      "metadata": {},
      "execution_count": null,
      "outputs": []
    },
    {
      "cell_type": "markdown",
      "source": "| header | header |\n| ------ | ------ |\n| cell | cell |",
      "metadata": {}
    },
    {
      "cell_type": "markdown",
      "source": "",
      "metadata": {}
    },
    {
      "cell_type": "markdown",
      "source": "# Exercise 10 - Advanced Markdown styling: Create tables\n\nUsing only Markdown, try creating a table with three columns and four rows.",
      "metadata": {}
    },
    {
      "cell_type": "markdown",
      "source": "|C1|C2|C3|\n|--|--|--|\n|E1|E2|E3|\n|E4|E5|E6|\n|E7|E8|E9|",
      "metadata": {}
    },
    {
      "cell_type": "code",
      "source": "",
      "metadata": {},
      "execution_count": null,
      "outputs": []
    }
  ]
}